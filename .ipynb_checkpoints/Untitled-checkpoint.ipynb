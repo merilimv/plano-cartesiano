{
 "cells": [
  {
   "cell_type": "code",
   "execution_count": 69,
   "id": "fac6956c",
   "metadata": {},
   "outputs": [
    {
     "name": "stdout",
     "output_type": "stream",
     "text": [
      "<class 'pandas.core.frame.DataFrame'>\n",
      "RangeIndex: 48842 entries, 0 to 48841\n",
      "Data columns (total 15 columns):\n",
      " #   Column           Non-Null Count  Dtype \n",
      "---  ------           --------------  ----- \n",
      " 0   age              48842 non-null  int64 \n",
      " 1   workclass        48842 non-null  object\n",
      " 2   fnlwgt           48842 non-null  int64 \n",
      " 3   education        48842 non-null  object\n",
      " 4   educational-num  48842 non-null  int64 \n",
      " 5   marital-status   48842 non-null  object\n",
      " 6   occupation       48842 non-null  object\n",
      " 7   relationship     48842 non-null  object\n",
      " 8   race             48842 non-null  object\n",
      " 9   gender           48842 non-null  object\n",
      " 10  capital-gain     48842 non-null  int64 \n",
      " 11  capital-loss     48842 non-null  int64 \n",
      " 12  hours-per-week   48842 non-null  int64 \n",
      " 13  native-country   48842 non-null  object\n",
      " 14  income           48842 non-null  object\n",
      "dtypes: int64(6), object(9)\n",
      "memory usage: 5.6+ MB\n"
     ]
    }
   ],
   "source": [
    "import pandas as pd\n",
    "import numpy as np\n",
    "\n",
    "\n",
    "data = pd.read_csv(\"adult.csv\")\n",
    "data.info()"
   ]
  },
  {
   "cell_type": "code",
   "execution_count": 70,
   "id": "83881ba7",
   "metadata": {},
   "outputs": [],
   "source": [
    "X = data.drop(['income'], axis=1)\n",
    "Y = data[\"income\"]\n",
    "\n",
    "from sklearn.model_selection import train_test_split\n",
    "\n",
    "x_train, x_test, Y_train, Y_test = train_test_split(x, Y, test_size = 0.3)\n",
    "data.groupby('occupation').occupation.count()"
   ]
  },
  {
   "cell_type": "code",
   "execution_count": 107,
   "id": "04a78ec4",
   "metadata": {},
   "outputs": [],
   "source": [
    "from sklearn.preprocessing import OrdinalEncoder\n",
    "\n",
    "categoricalLabels = (x_train.select_dtypes(include = ['object'])).columns\n",
    "\n",
    "encoder = OrdinalEncoder(dtype = 'int64')\n",
    "\n",
    "num_x_train = x_train.copy()\n",
    "num_x_test = x_test.copy()\n",
    "\n",
    "\n",
    "num_x_train[categoricalLabels] = encoder.fit_transform(x_train[categoricalLabels])\n",
    "num_x_test[categoricalLabels] = encoder.transform(x_test[categoricalLabels])\n",
    "\n",
    "num_Y_test = Y_test.apply(lambda p: 1 if p == '>50K' else 0)\n",
    "num_Y_train = Y_train.apply(lambda p: 1 if p == '>50K' else 0)"
   ]
  },
  {
   "cell_type": "code",
   "execution_count": 119,
   "id": "e9be606b",
   "metadata": {},
   "outputs": [
    {
     "name": "stdout",
     "output_type": "stream",
     "text": [
      "0.1936122295775609\n"
     ]
    }
   ],
   "source": [
    "from sklearn.tree import DecisionTreeClassifier\n",
    "from sklearn.metrics import mean_absolute_error\n",
    "\n",
    "modelo = DecisionTreeClassifier(random_state = 1)\n",
    "\n",
    "modelo.fit(num_x_train, num_Y_train)\n",
    "previsao = modelo.predict(num_x_test)\n",
    "\n",
    "print(mean_absolute_error(num_Y_test, previsao))\n",
    "\n",
    "##Não sei se o modelo é bom ou não\n",
    "##Falta ver se esse classificador tá sendo justo ou não"
   ]
  },
  {
   "cell_type": "code",
   "execution_count": null,
   "id": "bd7a511a",
   "metadata": {},
   "outputs": [],
   "source": []
  }
 ],
 "metadata": {
  "kernelspec": {
   "display_name": "Python 3 (ipykernel)",
   "language": "python",
   "name": "python3"
  },
  "language_info": {
   "codemirror_mode": {
    "name": "ipython",
    "version": 3
   },
   "file_extension": ".py",
   "mimetype": "text/x-python",
   "name": "python",
   "nbconvert_exporter": "python",
   "pygments_lexer": "ipython3",
   "version": "3.10.7"
  }
 },
 "nbformat": 4,
 "nbformat_minor": 5
}
